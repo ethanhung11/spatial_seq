{
 "cells": [
  {
   "cell_type": "markdown",
   "metadata": {},
   "source": [
    "# Import Library & Set Globals"
   ]
  },
  {
   "cell_type": "code",
   "execution_count": null,
   "metadata": {},
   "outputs": [],
   "source": [
    "# base\n",
    "import os\n",
    "import sys\n",
    "import warnings\n",
    "import logging\n",
    "logging.basicConfig(level='INFO')\n",
    "warnings.simplefilter(\"ignore\", FutureWarning)\n",
    "warnings.simplefilter(\"ignore\", UserWarning)\n",
    "warnings.simplefilter(\"ignore\", RuntimeWarning)\n",
    "\n",
    "# data manipulation\n",
    "import pandas as pd\n",
    "import numpy as np\n",
    "import seaborn as sns\n",
    "import matplotlib.pyplot as plt\n",
    "warnings.simplefilter(\"ignore\", pd.errors.DtypeWarning)\n",
    "mlogger = logging.getLogger('matplotlib')\n",
    "mlogger.setLevel(logging.WARNING)\n",
    "\n",
    "# single cell\n",
    "import scanpy as sc\n",
    "import decoupler as dc\n",
    "from liana.method import cellphonedb\n",
    "\n",
    "# custom\n",
    "sys.path.append('../..')\n",
    "from py import *\n",
    "\n",
    "# R\n",
    "import rpy2.robjects as ro\n",
    "from rpy2.robjects.conversion import localconverter\n",
    "converter = get_converter()\n",
    "%load_ext rpy2.ipython"
   ]
  },
  {
   "cell_type": "code",
   "execution_count": null,
   "metadata": {},
   "outputs": [],
   "source": [
    "%matplotlib inline\n",
    "study = \"paper_processed\"\n",
    "R_converted = False\n",
    "\n",
    "CORES = 10\n",
    "DATADIR = \"../../../data\"\n",
    "REFDIR = \"../../../references\"\n",
    "DOUBLETMETHODS = ['scDblFinder','DoubletFinder','doubletdetection','scrublet']"
   ]
  },
  {
   "cell_type": "markdown",
   "metadata": {},
   "source": [
    "# Import Data"
   ]
  },
  {
   "cell_type": "code",
   "execution_count": null,
   "metadata": {},
   "outputs": [],
   "source": [
    "study = \"paper_processed\"\n",
    "\n",
    "# experiment = os.path.join('cellbender',study)\n",
    "# filename = \"output_filtered\"\n",
    "# filetype = \".h5\"\n",
    "# data_dir = DATADIR\n",
    "\n",
    "experiment_dir = os.path.join('cellranger',study)\n",
    "filename = \"1/outs/raw_feature_bc_matrix\"\n",
    "filetype = \".mtx\"\n",
    "data_dir = DATADIR\n",
    "convertR = False\n",
    "\n",
    "adatas = get_data(data_dir, experiment_dir, filename, filetype, convertR)\n",
    "\n",
    "for ad in adatas:\n",
    "    ad.obs['Groups'] = ad.obs['Identifier']\n",
    "    ad.obs['Experiment'], ad.obs['Condition'], ad.obs['Sample Type'] = np.array(ad.obs['Identifier'].str.split('-|_').to_list()).T"
   ]
  },
  {
   "cell_type": "code",
   "execution_count": null,
   "metadata": {},
   "outputs": [],
   "source": [
    "def GetSpatialDataDIRECT(directory: str, name: str, filetype: str):\n",
    "    if filetype == \".h5\":\n",
    "        adata = sc.read_10x_h5(directory + filetype)\n",
    "    elif filetype == \".h5ad\":\n",
    "        adata = sc.read_h5ad(directory + filetype)\n",
    "    elif filetype == \".mtx\":\n",
    "        adata = sc.read_10x_mtx(directory)\n",
    "    else:\n",
    "        raise ValueError(\n",
    "            f\"{filetype} is not a valid filetype. Must be h5, h5ad, or mtx.\"\n",
    "        )\n",
    "\n",
    "    adata.obs[\"Identifier\"] = name\n",
    "    adata.obs.index = adata.obs.index + \"_\" + name\n",
    "    adata.layers[\"counts\"] = adata.X.copy()\n",
    "\n",
    "    return adata\n",
    "\n",
    "def GetSpatialData(directory: str, name: str, filetype: str):\n",
    "    if filetype == \".h5\":\n",
    "        adata = sc.read_10x_h5(directory + filetype)\n",
    "    elif filetype == \".h5ad\":\n",
    "        adata = sc.read_h5ad(directory + filetype)\n",
    "    elif filetype == \".mtx\":\n",
    "        adata = sc.read_10x_mtx(directory)\n",
    "    else:\n",
    "        raise ValueError(\n",
    "            f\"{filetype} is not a valid filetype. Must be h5, h5ad, or mtx.\"\n",
    "        )\n",
    "\n",
    "    adata.obs[\"Identifier\"] = name\n",
    "    adata.obs.index = adata.obs.index + \"_\" + name\n",
    "    adata.layers[\"counts\"] = adata.X.copy()\n",
    "\n",
    "    return adata\n",
    "\n",
    "adatas = get_data(data_dir, experiment_dir, filename, filetype, convertR)"
   ]
  }
 ],
 "metadata": {
  "language_info": {
   "name": "python"
  }
 },
 "nbformat": 4,
 "nbformat_minor": 2
}
