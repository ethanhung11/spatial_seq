{
 "cells": [
  {
   "cell_type": "markdown",
   "metadata": {},
   "source": [
    "# Import Library & Set Globals"
   ]
  },
  {
   "cell_type": "code",
   "execution_count": null,
   "metadata": {},
   "outputs": [
    {
     "name": "stderr",
     "output_type": "stream",
     "text": [
      "/mnt/DATA/home/ethung/snRNAseq_analysis/.venv/lib/python3.12/site-packages/scvi/__init__.py:31: DeprecationWarning: scvi is deprecated, please uninstall scvi via `pip uninstall scvi` and install the new scvi-tools package at github.com/YosefLab/scvi-tools\n",
      "/mnt/DATA/home/ethung/snRNAseq_analysis/.venv/lib/python3.12/site-packages/phenograph/cluster.py:13: DeprecationWarning: Please import `spmatrix` from the `scipy.sparse` namespace; the `scipy.sparse.base` namespace is deprecated and will be removed in SciPy 2.0.0.\n",
      "INFO:rpy2.situation:cffi mode is CFFI_MODE.ANY\n",
      "INFO:rpy2.situation:R home found: /opt/R/4.4.1/lib/R\n",
      "INFO:rpy2.situation:R library path: /opt/R/4.4.1/lib/R/lib:/usr/local/lib:/usr/lib/x86_64-linux-gnu:/usr/lib/jvm/java-11-openjdk-amd64/lib/server\n",
      "INFO:rpy2.situation:LD_LIBRARY_PATH: /opt/R/4.4.1/lib/R/lib:/usr/local/lib:/usr/lib/x86_64-linux-gnu:/usr/lib/jvm/java-11-openjdk-amd64/lib/server\n",
      "INFO:rpy2.rinterface_lib.embedded:Default options to initialize R: rpy2, --quiet, --no-save\n",
      "INFO:rpy2.rinterface_lib.embedded:R is already initialized. No need to initialize.\n"
     ]
    }
   ],
   "source": [
    "# base\n",
    "import os\n",
    "import sys\n",
    "import warnings\n",
    "import logging\n",
    "\n",
    "logging.basicConfig(level=\"INFO\")\n",
    "warnings.simplefilter(\"ignore\", FutureWarning)\n",
    "warnings.simplefilter(\"ignore\", UserWarning)\n",
    "warnings.simplefilter(\"ignore\", RuntimeWarning)\n",
    "\n",
    "# data manipulation\n",
    "import pickle\n",
    "import pandas as pd\n",
    "import numpy as np\n",
    "import seaborn as sns\n",
    "import matplotlib.pyplot as plt\n",
    "\n",
    "warnings.simplefilter(\"ignore\", pd.errors.DtypeWarning)\n",
    "warnings.simplefilter(\"ignore\", pd.errors.PerformanceWarning)\n",
    "mlogger = logging.getLogger(\"matplotlib\")\n",
    "mlogger.setLevel(logging.WARNING)\n",
    "\n",
    "# single cell\n",
    "import scanpy as sc\n",
    "import decoupler as dc\n",
    "import liana as li\n",
    "\n",
    "# custom\n",
    "sys.path.append(\"../..\")\n",
    "from python import *\n",
    "\n",
    "import rpy2.robjects as ro\n",
    "from rpy2.robjects.conversion import localconverter\n",
    "\n",
    "converter = get_converter()\n",
    "\n",
    "# R_preload()\n",
    "%load_ext rpy2.ipython"
   ]
  },
  {
   "cell_type": "code",
   "execution_count": null,
   "metadata": {},
   "outputs": [],
   "source": [
    "%matplotlib inline\n",
    "study = \"paper_processed_FULL\"\n",
    "\n",
    "CORES = 10\n",
    "DATADIR = \"../../../data\"\n",
    "REFDIR = \"../../../references\"\n",
    "DOUBLETMETHODS = [\"scDblFinder\", \"DoubletFinder\", \"doubletdetection\", \"scrublet\"]"
   ]
  },
  {
   "cell_type": "markdown",
   "metadata": {},
   "source": [
    "# CCC"
   ]
  },
  {
   "cell_type": "code",
   "execution_count": null,
   "metadata": {},
   "outputs": [],
   "source": [
    "# load\n",
    "savedir = os.path.join(DATADIR, \"processed\", study, \"py\", \"3_annotated\")\n",
    "annotation = \"manDoublet-seuratV3-harmony-leiden_1\"\n",
    "adata = sc.read_h5ad(os.path.join(savedir, f\"{annotation}.h5ad\"))\n",
    "\n",
    "\n",
    "savedir = os.path.join(DATADIR, \"processed\", study, \"py\", \"4_subclustered\")\n",
    "\n",
    "annotation = \"manDoublet-seuratV3-harmony-leiden_1-macro_leiden_0.5\"\n",
    "adata_macros = sc.read_h5ad(os.path.join(savedir, f\"{annotation}.h5ad\"))\n",
    "\n",
    "annotation = \"manDoublet-seuratV3-harmony-leiden_1-fibro_leiden_0.5\"\n",
    "adata_fibros = sc.read_h5ad(os.path.join(savedir, f\"{annotation}.h5ad\"))"
   ]
  },
  {
   "cell_type": "markdown",
   "metadata": {},
   "source": [
    "### All Cells"
   ]
  },
  {
   "cell_type": "code",
   "execution_count": null,
   "metadata": {},
   "outputs": [],
   "source": [
    "# ligand & receptor\n",
    "cell2cell_interactions(adata, cores=CORES)\n",
    "cell_interest = [\"Fibroblast\", \"Macrophage\"]\n",
    "plot_c2c(\n",
    "    adata,\n",
    "    \"ccc_filtered\",\n",
    "    sources=cell_interest,\n",
    "    targets=cell_interest,\n",
    "    top_n=50,\n",
    "    figsize=(15, 10),\n",
    ")\n",
    "\n",
    "# Save as CSV\n",
    "filtered = adata.uns[\"ccc_filtered\"].copy()\n",
    "filtered_macfib = filtered[\n",
    "    filtered.source.isin(cell_interest) & filtered.target.isin(cell_interest)\n",
    "]\n",
    "# filtered_macfib.to_csv(\"filtered_macro_fibro_interactions\")"
   ]
  },
  {
   "cell_type": "markdown",
   "metadata": {},
   "source": [
    "### Fibros & Macros"
   ]
  },
  {
   "cell_type": "code",
   "execution_count": null,
   "metadata": {},
   "outputs": [],
   "source": [
    "ewat_macros = adata_macros[adata_macros.obs[\"Sample Type\"].isin([\"eWAT\"])].copy()\n",
    "ewat_fibros = adata_fibros[adata_fibros.obs[\"Sample Type\"].isin([\"eWAT\"])].copy()\n",
    "ewat_fms = sc.concat([ewat_fibros, ewat_macros], join=\"outer\")\n",
    "\n",
    "ewat_fms.raw = dc.pp.swap_layer(ewat_fms, \"counts\")\n",
    "ewat_fms.obs[\"Subclusters\"] = pd.concat(\n",
    "    [\n",
    "        \"Fibroblast_\" + ewat_fms.obs[\"leiden_fibro_group\"].dropna().astype(str),\n",
    "        \"Macrophage_\" + ewat_fms.obs[\"leiden_macro_group\"].dropna().astype(str),\n",
    "    ]\n",
    ").astype(\"category\")\n",
    "cell2cell_interactions(ewat_fms, cell_group=\"Subclusters\", key=\"ccc_FMs\", cores=CORES)\n",
    "\n",
    "# ewat_fms.uns[\"ccc_FMs_filtered\"][['source', 'target', 'ligand_complex', 'receptor_complex', 'specificity_rank', 'magnitude_rank']]"
   ]
  },
  {
   "cell_type": "code",
   "execution_count": null,
   "metadata": {},
   "outputs": [],
   "source": [
    "# dc.op.show_resources()\n",
    "dc.op.resource(\"CellChatDB\", \"mouse\")"
   ]
  },
  {
   "cell_type": "code",
   "execution_count": null,
   "metadata": {},
   "outputs": [],
   "source": [
    "plot_c2c(\n",
    "    ewat_fms,\n",
    "    \"ccc_FMs_filtered\",\n",
    "    top_n=200,\n",
    "    sources=[f\"Fibroblast_{i}\" for i in np.arange(4) + 1],\n",
    "    targets=[\"Macrophage_8\"],\n",
    "    figsize=(10, 20),\n",
    ")"
   ]
  },
  {
   "cell_type": "code",
   "execution_count": null,
   "metadata": {},
   "outputs": [],
   "source": [
    "plot_c2c(\n",
    "    ewat_fms,\n",
    "    \"ccc_FMs_filtered\",\n",
    "    top_n=200,\n",
    "    sources=[f\"Fibroblast_{i}\" for i in np.arange(4) + 1],\n",
    "    targets=[f\"Macrophage_{i}\" for i in np.arange(8) + 1],\n",
    "    figsize=(20, 10),\n",
    ")\n",
    "\n",
    "plot_c2c(\n",
    "    ewat_fms,\n",
    "    \"ccc_FMs_filtered\",\n",
    "    top_n=200,\n",
    "    sources=[\"Macrophage_8\"],\n",
    "    targets=[f\"Fibroblast_{i}\" for i in np.arange(4) + 1],\n",
    "    figsize=(5, 20),\n",
    ")"
   ]
  },
  {
   "cell_type": "markdown",
   "metadata": {},
   "source": [
    "### Save/Load"
   ]
  },
  {
   "cell_type": "code",
   "execution_count": null,
   "metadata": {},
   "outputs": [],
   "source": [
    "# save\n",
    "annotation = \"manDoublet-seuratV3-harmony-leiden_1\"\n",
    "savedir = os.path.join(DATADIR, \"processed\", study, \"py\", \"3_annotated\")\n",
    "adata.write(os.path.join(savedir, f\"{annotation}.h5ad\"))"
   ]
  },
  {
   "cell_type": "code",
   "execution_count": null,
   "metadata": {},
   "outputs": [],
   "source": [
    "# save\n",
    "annotation = \"manDoublet-seuratV3-harmony-leiden_1-fibros_macros\"\n",
    "savedir = os.path.join(DATADIR, \"processed\", study, \"py\", \"4_subclustered\")\n",
    "adata_fms.write(os.path.join(savedir, f\"{annotation}.h5ad\"))"
   ]
  },
  {
   "cell_type": "code",
   "execution_count": null,
   "metadata": {},
   "outputs": [],
   "source": [
    "# load\n",
    "annotation = \"manDoublet-seuratV3-harmony-leiden_1-fibros_macros\"\n",
    "savedir = os.path.join(DATADIR, \"processed\", study, \"py\", \"4_subclustered\")\n",
    "adata_fms = sc.read_h5ad(os.path.join(savedir, f\"{annotation}.h5ad\"))"
   ]
  }
 ],
 "metadata": {
  "kernelspec": {
   "display_name": "snrnaseq-analysis",
   "language": "python",
   "name": "python3"
  },
  "language_info": {
   "name": "python",
   "version": "3.12.9"
  }
 },
 "nbformat": 4,
 "nbformat_minor": 2
}
